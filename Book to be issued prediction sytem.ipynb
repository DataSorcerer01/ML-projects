{
  "nbformat": 4,
  "nbformat_minor": 0,
  "metadata": {
    "colab": {
      "provenance": [],
      "authorship_tag": "ABX9TyNTGVXSpNvy/X8m0Jo/mlE7",
      "include_colab_link": true
    },
    "kernelspec": {
      "name": "python3",
      "display_name": "Python 3"
    },
    "language_info": {
      "name": "python"
    }
  },
  "cells": [
    {
      "cell_type": "markdown",
      "metadata": {
        "id": "view-in-github",
        "colab_type": "text"
      },
      "source": [
        "<a href=\"https://colab.research.google.com/github/smritigithubacc/ML-projects/blob/main/Book%20to%20be%20issued%20prediction%20sytem.ipynb\" target=\"_parent\"><img src=\"https://colab.research.google.com/assets/colab-badge.svg\" alt=\"Open In Colab\"/></a>"
      ]
    },
    {
      "cell_type": "code",
      "execution_count": null,
      "metadata": {
        "id": "YoPonQSMPXRC"
      },
      "outputs": [],
      "source": [
        "import pandas as pd\n",
        "from sklearn.model_selection import train_test_split\n",
        "from sklearn.ensemble import RandomForestClassifier\n",
        "data=pd.read_csv(\"Books.csv\")"
      ]
    },
    {
      "cell_type": "code",
      "source": [
        "data.head(10)\n",
        "print(data)\n",
        "df=pd.DataFrame(data)\n",
        "df.info()"
      ],
      "metadata": {
        "colab": {
          "base_uri": "https://localhost:8080/"
        },
        "id": "P1CDt0hWN795",
        "outputId": "b858429d-3439-42ff-8bf6-efd6fe8915c7"
      },
      "execution_count": null,
      "outputs": [
        {
          "output_type": "stream",
          "name": "stdout",
          "text": [
            "    bid                                 title              author  \\\n",
            "0     1                            Steve Jobs     Walter Issacson   \n",
            "1     2                    Discovery of India    Jawaharlal Nehru   \n",
            "2     3             My Experiments with Truth      Mahatma Gandhi   \n",
            "3     4  Object Oriented Programming with C++      E Balagurusamy   \n",
            "4     5                    Thinking with type        Ellen Lupton   \n",
            "..  ...                                   ...                 ...   \n",
            "56   57                    Alexander Hamilton         Ron Chernow   \n",
            "57   58                             Barracoon  Zora Neale Hurston   \n",
            "58   59                    CHURCHILL : A Life      MArtin Glibert   \n",
            "59   60                  A Tale of Two Cities     Charles Dickens   \n",
            "60   61                        Les Misérables         Victor Hugo   \n",
            "\n",
            "              category     status  \n",
            "0            Biography     issued  \n",
            "1              History     issued  \n",
            "2        Autobiography     issued  \n",
            "3            Education     issued  \n",
            "4                 Arts     issued  \n",
            "..                 ...        ...  \n",
            "56           Biography  available  \n",
            "57           Biography  available  \n",
            "58           Biography  available  \n",
            "59    Historical novel     issued  \n",
            "60  Historical fiction  available  \n",
            "\n",
            "[61 rows x 5 columns]\n",
            "<class 'pandas.core.frame.DataFrame'>\n",
            "RangeIndex: 61 entries, 0 to 60\n",
            "Data columns (total 5 columns):\n",
            " #   Column    Non-Null Count  Dtype \n",
            "---  ------    --------------  ----- \n",
            " 0   bid       61 non-null     int64 \n",
            " 1   title     61 non-null     object\n",
            " 2   author    61 non-null     object\n",
            " 3   category  61 non-null     object\n",
            " 4   status    61 non-null     object\n",
            "dtypes: int64(1), object(4)\n",
            "memory usage: 2.5+ KB\n"
          ]
        }
      ]
    },
    {
      "cell_type": "markdown",
      "source": [
        "Here 1 means was issued and 0 means was not issued"
      ],
      "metadata": {
        "id": "pYKtsUucmjV3"
      }
    },
    {
      "cell_type": "code",
      "source": [
        "from sklearn.preprocessing import LabelEncoder\n",
        "le = LabelEncoder()\n",
        "label = le.fit_transform(df['status'])\n",
        "print(label)"
      ],
      "metadata": {
        "colab": {
          "base_uri": "https://localhost:8080/"
        },
        "id": "6fRw_NwFOLH6",
        "outputId": "c0ebd748-5f00-46ec-bbbf-cb15d52ba854"
      },
      "execution_count": null,
      "outputs": [
        {
          "output_type": "stream",
          "name": "stdout",
          "text": [
            "[1 1 1 1 1 1 1 1 1 1 0 0 1 0 0 0 0 0 0 0 1 0 1 1 1 0 0 0 0 0 0 1 0 0 0 0 0\n",
            " 0 0 1 0 0 0 1 0 1 0 0 0 0 1 1 0 0 0 0 0 0 0 1 0]\n"
          ]
        }
      ]
    },
    {
      "cell_type": "code",
      "source": [
        "\n",
        "df.drop(\"status\", axis=1, inplace=True)\n",
        "df[\"status\"] = label\n",
        "print(df)\n",
        ""
      ],
      "metadata": {
        "colab": {
          "base_uri": "https://localhost:8080/"
        },
        "id": "bWJ60gsNPWCN",
        "outputId": "f84608d4-ffe9-40c8-871d-f37b1642a4c4"
      },
      "execution_count": null,
      "outputs": [
        {
          "output_type": "stream",
          "name": "stdout",
          "text": [
            "    bid                                 title              author  \\\n",
            "0     1                            Steve Jobs     Walter Issacson   \n",
            "1     2                    Discovery of India    Jawaharlal Nehru   \n",
            "2     3             My Experiments with Truth      Mahatma Gandhi   \n",
            "3     4  Object Oriented Programming with C++      E Balagurusamy   \n",
            "4     5                    Thinking with type        Ellen Lupton   \n",
            "..  ...                                   ...                 ...   \n",
            "56   57                    Alexander Hamilton         Ron Chernow   \n",
            "57   58                             Barracoon  Zora Neale Hurston   \n",
            "58   59                    CHURCHILL : A Life      MArtin Glibert   \n",
            "59   60                  A Tale of Two Cities     Charles Dickens   \n",
            "60   61                        Les Misérables         Victor Hugo   \n",
            "\n",
            "              category  status  \n",
            "0            Biography       1  \n",
            "1              History       1  \n",
            "2        Autobiography       1  \n",
            "3            Education       1  \n",
            "4                 Arts       1  \n",
            "..                 ...     ...  \n",
            "56           Biography       0  \n",
            "57           Biography       0  \n",
            "58           Biography       0  \n",
            "59    Historical novel       1  \n",
            "60  Historical fiction       0  \n",
            "\n",
            "[61 rows x 5 columns]\n"
          ]
        }
      ]
    },
    {
      "cell_type": "code",
      "source": [
        "X=df.iloc[:,:-1].values\n",
        "y=df.iloc[:,-1].values\n",
        "from sklearn.model_selection import train_test_split\n",
        "\n",
        "X_train, X_test, y_train, y_test = train_test_split(X, y, test_size=0.2, random_state=0)\n",
        "X_train = pd.DataFrame(X_train, columns=df.columns[:-1])\n",
        "X_test = pd.DataFrame(X_test, columns=df.columns[:-1])\n",
        "\n",
        "from sklearn.feature_extraction.text import CountVectorizer\n",
        "X_train['title_author'] = X_train['title'] + ' ' + X_train['author']\n",
        "X_test['title_author'] = X_test['title'] + ' ' + X_test['author']\n",
        "vectorizer = CountVectorizer()\n",
        "X_train_features = vectorizer.fit_transform(X_train['title_author'])\n",
        "X_test_features = vectorizer.transform(X_test['title_author'])\n",
        "\n"
      ],
      "metadata": {
        "id": "jZ9PBaMbPjDH"
      },
      "execution_count": null,
      "outputs": []
    },
    {
      "cell_type": "code",
      "source": [
        "from sklearn.linear_model import LogisticRegression\n",
        "model = LogisticRegression()\n",
        "model.fit(X_train_features, y_train)"
      ],
      "metadata": {
        "colab": {
          "base_uri": "https://localhost:8080/",
          "height": 74
        },
        "id": "NaKo8V2PW-W9",
        "outputId": "5d341966-2d97-4f0c-b2b6-e2b52738c201"
      },
      "execution_count": null,
      "outputs": [
        {
          "output_type": "execute_result",
          "data": {
            "text/plain": [
              "LogisticRegression()"
            ],
            "text/html": [
              "<style>#sk-container-id-3 {color: black;background-color: white;}#sk-container-id-3 pre{padding: 0;}#sk-container-id-3 div.sk-toggleable {background-color: white;}#sk-container-id-3 label.sk-toggleable__label {cursor: pointer;display: block;width: 100%;margin-bottom: 0;padding: 0.3em;box-sizing: border-box;text-align: center;}#sk-container-id-3 label.sk-toggleable__label-arrow:before {content: \"▸\";float: left;margin-right: 0.25em;color: #696969;}#sk-container-id-3 label.sk-toggleable__label-arrow:hover:before {color: black;}#sk-container-id-3 div.sk-estimator:hover label.sk-toggleable__label-arrow:before {color: black;}#sk-container-id-3 div.sk-toggleable__content {max-height: 0;max-width: 0;overflow: hidden;text-align: left;background-color: #f0f8ff;}#sk-container-id-3 div.sk-toggleable__content pre {margin: 0.2em;color: black;border-radius: 0.25em;background-color: #f0f8ff;}#sk-container-id-3 input.sk-toggleable__control:checked~div.sk-toggleable__content {max-height: 200px;max-width: 100%;overflow: auto;}#sk-container-id-3 input.sk-toggleable__control:checked~label.sk-toggleable__label-arrow:before {content: \"▾\";}#sk-container-id-3 div.sk-estimator input.sk-toggleable__control:checked~label.sk-toggleable__label {background-color: #d4ebff;}#sk-container-id-3 div.sk-label input.sk-toggleable__control:checked~label.sk-toggleable__label {background-color: #d4ebff;}#sk-container-id-3 input.sk-hidden--visually {border: 0;clip: rect(1px 1px 1px 1px);clip: rect(1px, 1px, 1px, 1px);height: 1px;margin: -1px;overflow: hidden;padding: 0;position: absolute;width: 1px;}#sk-container-id-3 div.sk-estimator {font-family: monospace;background-color: #f0f8ff;border: 1px dotted black;border-radius: 0.25em;box-sizing: border-box;margin-bottom: 0.5em;}#sk-container-id-3 div.sk-estimator:hover {background-color: #d4ebff;}#sk-container-id-3 div.sk-parallel-item::after {content: \"\";width: 100%;border-bottom: 1px solid gray;flex-grow: 1;}#sk-container-id-3 div.sk-label:hover label.sk-toggleable__label {background-color: #d4ebff;}#sk-container-id-3 div.sk-serial::before {content: \"\";position: absolute;border-left: 1px solid gray;box-sizing: border-box;top: 0;bottom: 0;left: 50%;z-index: 0;}#sk-container-id-3 div.sk-serial {display: flex;flex-direction: column;align-items: center;background-color: white;padding-right: 0.2em;padding-left: 0.2em;position: relative;}#sk-container-id-3 div.sk-item {position: relative;z-index: 1;}#sk-container-id-3 div.sk-parallel {display: flex;align-items: stretch;justify-content: center;background-color: white;position: relative;}#sk-container-id-3 div.sk-item::before, #sk-container-id-3 div.sk-parallel-item::before {content: \"\";position: absolute;border-left: 1px solid gray;box-sizing: border-box;top: 0;bottom: 0;left: 50%;z-index: -1;}#sk-container-id-3 div.sk-parallel-item {display: flex;flex-direction: column;z-index: 1;position: relative;background-color: white;}#sk-container-id-3 div.sk-parallel-item:first-child::after {align-self: flex-end;width: 50%;}#sk-container-id-3 div.sk-parallel-item:last-child::after {align-self: flex-start;width: 50%;}#sk-container-id-3 div.sk-parallel-item:only-child::after {width: 0;}#sk-container-id-3 div.sk-dashed-wrapped {border: 1px dashed gray;margin: 0 0.4em 0.5em 0.4em;box-sizing: border-box;padding-bottom: 0.4em;background-color: white;}#sk-container-id-3 div.sk-label label {font-family: monospace;font-weight: bold;display: inline-block;line-height: 1.2em;}#sk-container-id-3 div.sk-label-container {text-align: center;}#sk-container-id-3 div.sk-container {/* jupyter's `normalize.less` sets `[hidden] { display: none; }` but bootstrap.min.css set `[hidden] { display: none !important; }` so we also need the `!important` here to be able to override the default hidden behavior on the sphinx rendered scikit-learn.org. See: https://github.com/scikit-learn/scikit-learn/issues/21755 */display: inline-block !important;position: relative;}#sk-container-id-3 div.sk-text-repr-fallback {display: none;}</style><div id=\"sk-container-id-3\" class=\"sk-top-container\"><div class=\"sk-text-repr-fallback\"><pre>LogisticRegression()</pre><b>In a Jupyter environment, please rerun this cell to show the HTML representation or trust the notebook. <br />On GitHub, the HTML representation is unable to render, please try loading this page with nbviewer.org.</b></div><div class=\"sk-container\" hidden><div class=\"sk-item\"><div class=\"sk-estimator sk-toggleable\"><input class=\"sk-toggleable__control sk-hidden--visually\" id=\"sk-estimator-id-3\" type=\"checkbox\" checked><label for=\"sk-estimator-id-3\" class=\"sk-toggleable__label sk-toggleable__label-arrow\">LogisticRegression</label><div class=\"sk-toggleable__content\"><pre>LogisticRegression()</pre></div></div></div></div></div>"
            ]
          },
          "metadata": {},
          "execution_count": 50
        }
      ]
    },
    {
      "cell_type": "code",
      "source": [
        "accuracy = model.score(X_test_features, y_test)\n",
        "print('Accuracy:', 100*accuracy)"
      ],
      "metadata": {
        "colab": {
          "base_uri": "https://localhost:8080/"
        },
        "id": "7kH3nPEyXHLi",
        "outputId": "718c6a28-ed03-4b82-fa4f-cd74bba07500"
      },
      "execution_count": null,
      "outputs": [
        {
          "output_type": "stream",
          "name": "stdout",
          "text": [
            "Accuracy: 76.92307692307693\n"
          ]
        }
      ]
    },
    {
      "cell_type": "code",
      "source": [
        "from sklearn.ensemble import RandomForestClassifier\n",
        "#classifier = RandomForestClassifier(n_estimators=100, criterion='gini')\n",
        "classifier = RandomForestClassifier(n_estimators=100, criterion='entropy')\n",
        "classifier.fit(X_train_features, y_train)\n",
        "accuracy=classifier.score(X_test_features, y_test)\n",
        "print(\"Accuracy is\",100*accuracy)\n"
      ],
      "metadata": {
        "colab": {
          "base_uri": "https://localhost:8080/"
        },
        "id": "DOKb-W76XUO7",
        "outputId": "ef620575-25e0-46fd-cc6e-ea82a07a03c8"
      },
      "execution_count": null,
      "outputs": [
        {
          "output_type": "stream",
          "name": "stdout",
          "text": [
            "Accuracy is 69.23076923076923\n"
          ]
        }
      ]
    },
    {
      "cell_type": "code",
      "source": [
        "new_books = pd.DataFrame({\n",
        "    'title': ['Object Oriented Programming with C++', 'Steve Jobs ','CHURCHILL : A Life'],\n",
        "    'author': ['E Balagurusamy ', ' Walter Issacson ','MArtin Glibert ']})"
      ],
      "metadata": {
        "id": "FQDs8gY6W6DN"
      },
      "execution_count": null,
      "outputs": []
    },
    {
      "cell_type": "code",
      "source": [
        "new_books['title_author'] = new_books['title'] + ' ' + new_books['author']\n",
        "new_books_features = vectorizer.transform(new_books['title_author'])\n",
        "predictions = model.predict(new_books_features)\n",
        "# dict = {1: 'issued', 0:'not issued'}\n",
        "for i in range(len(new_books)):\n",
        "  if predictions[i] == 1:\n",
        "    print(new_books.iloc[i]['title'], ', by', new_books.iloc[i]['author'], 'will be issued.')#'(',predictions[i],')','in the coming weeks' )\n",
        "  else:\n",
        "    print(new_books.iloc[i]['title'], ', by', new_books.iloc[i]['author'], 'will not be issued.')#'(',predictions[i],')','in the coming weeks' )\n"
      ],
      "metadata": {
        "colab": {
          "base_uri": "https://localhost:8080/"
        },
        "id": "ZwjKg8xMYElR",
        "outputId": "686c962b-3b82-463b-f150-e39d09ceeae0"
      },
      "execution_count": null,
      "outputs": [
        {
          "output_type": "stream",
          "name": "stdout",
          "text": [
            "Object Oriented Programming with C++ , by E Balagurusamy  will be issued.\n",
            "Steve Jobs  , by  Walter Issacson  will be issued.\n",
            "CHURCHILL : A Life , by MArtin Glibert  will not be issued.\n"
          ]
        }
      ]
    },
    {
      "cell_type": "code",
      "source": [],
      "metadata": {
        "id": "pnYsXYSlCIMg"
      },
      "execution_count": null,
      "outputs": []
    }
  ]
}